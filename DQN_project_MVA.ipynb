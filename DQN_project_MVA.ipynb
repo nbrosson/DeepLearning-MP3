{
 "cells": [
  {
   "cell_type": "markdown",
   "metadata": {},
   "source": [
    "**You may need to install [OpenCV](https://pypi.python.org/pypi/opencv-python) and [scikit-video](http://www.scikit-video.org/stable/).**"
   ]
  },
  {
   "cell_type": "code",
   "execution_count": 21,
   "metadata": {},
   "outputs": [],
   "source": [
    "import keras\n",
    "import numpy as np\n",
    "import io\n",
    "import base64\n",
    "from IPython.display import HTML\n",
    "import skvideo.io\n",
    "import cv2\n",
    "import json\n",
    "import tensorflow as tf\n",
    "from collections import deque\n",
    "from keras.models import Sequential,model_from_json\n",
    "from keras.layers.core import Dense\n",
    "from keras.optimizers import sgd, Adam\n",
    "from keras.layers import Conv2D, MaxPooling2D, Activation, AveragePooling2D,Reshape, Flatten,BatchNormalization"
   ]
  },
  {
   "cell_type": "markdown",
   "metadata": {},
   "source": [
    "# MiniProject #3: Deep Reinforcement Learning"
   ]
  },
  {
   "cell_type": "code",
   "execution_count": null,
   "metadata": {},
   "outputs": [],
   "source": []
  },
  {
   "cell_type": "markdown",
   "metadata": {},
   "source": [
    "__Notations__: $E_p$ is the expectation under probability $p$. Please justify each of your answer and widely comment your code."
   ]
  },
  {
   "cell_type": "markdown",
   "metadata": {},
   "source": [
    "# Context"
   ]
  },
  {
   "cell_type": "markdown",
   "metadata": {},
   "source": [
    "In a reinforcement learning algorithm, we modelize each step $t$ as an action $a_t$ obtained from a state $s_t$, i.e. $\\{(a_{t},s_{t})_{t\\leq T}\\}$ having the Markov property. We consider a discount factor $\\gamma \\in [0,1]$ that ensures convergence. The goal is to find among all the policies $\\pi$, one that maximizes the expected reward:\n",
    "\n",
    "\\begin{equation*}\n",
    "R(\\pi)=\\sum_{t\\leq T}E_{p^{\\pi}}[\\gamma^t r(s_{t},a_{t})] \\> ,\n",
    "\\end{equation*}\n",
    "\n",
    "where: \n",
    "\\begin{equation*}p^{\\pi}(a_{0},a_{1},s_{1},...,a_{T},s_{T})=p(a_{0})\\prod_{t=1}^{T}\\pi(a_{t}|s_{t})p(s_{t+1}|s_{t},a_{t}) \\> .\n",
    "\\end{equation*}\n",
    "\n",
    "We note the $Q$-function:\n",
    "\n",
    "\\begin{equation*}Q^\\pi(s,a)=E_{p^{\\pi}}[\\sum_{t\\leq T}\\gamma^{t}r(s_{t},a_{t})|s_{0}=s,a_{0}=a] \\> .\n",
    "\\end{equation*}\n",
    "\n",
    "Thus, the optimal Q function is:\n",
    "\\begin{equation*}\n",
    "Q^*(s,a)=\\max_{\\pi}Q^\\pi(s,a) \\> .\n",
    "\\end{equation*}\n",
    "\n",
    "In this project, we will apply the deep reinforcement learning techniques to a simple game: an agent will have to learn from scratch a policy that will permit it maximizing a reward."
   ]
  },
  {
   "cell_type": "markdown",
   "metadata": {},
   "source": [
    "## The environment, the agent and the game"
   ]
  },
  {
   "cell_type": "markdown",
   "metadata": {},
   "source": [
    "### The environment"
   ]
  },
  {
   "cell_type": "markdown",
   "metadata": {},
   "source": [
    "```Environment``` is an abstract class that represents the states, rewards, and actions to obtain the new state."
   ]
  },
  {
   "cell_type": "code",
   "execution_count": 22,
   "metadata": {},
   "outputs": [],
   "source": [
    "class Environment(object):\n",
    "    def __init__(self):\n",
    "        pass\n",
    "\n",
    "    def act(self, act):\n",
    "        \"\"\"\n",
    "        One can act on the environment and obtain its reaction:\n",
    "        - the new state\n",
    "        - the reward of the new state\n",
    "        - should we continue the game?\n",
    "\n",
    "        :return: state, reward, game_over\n",
    "        \"\"\"\n",
    "        pass\n",
    "\n",
    "\n",
    "    def reset(self):\n",
    "        \"\"\"\n",
    "        Reinitialize the environment to a random state and returns\n",
    "        the original state\n",
    "\n",
    "        :return: state\n",
    "        \"\"\"\n",
    "        pass\n",
    "    \n",
    "    def draw(self):\n",
    "        \"\"\"\n",
    "        Visualize in the console or graphically the current state\n",
    "        \"\"\"\n",
    "        pass"
   ]
  },
  {
   "cell_type": "markdown",
   "metadata": {},
   "source": [
    "The method ```act``` allows to act on the environment at a given state $s_t$ (stored internally), via action $a_t$. The method will return the new state $s_{t+1}$, the reward $r(s_{t},a_{t})$ and determines if $t\\leq T$ (*game_over*).\n",
    "\n",
    "The method ```reset``` simply reinitializes the environment to a random state $s_0$.\n",
    "\n",
    "The method ```draw``` displays the current state $s_t$ (this is useful to check the behavior of the Agent).\n",
    "\n",
    "We modelize $s_t$ as a tensor, while $a_t$ is an integer."
   ]
  },
  {
   "cell_type": "markdown",
   "metadata": {},
   "source": [
    "### The Agent"
   ]
  },
  {
   "cell_type": "markdown",
   "metadata": {},
   "source": [
    "The goal of the ```Agent``` is to interact with the ```Environment``` by proposing actions $a_t$ obtained from a given state $s_t$ to attempt to maximize its __reward__ $r(s_t,a_t)$. We propose the following abstract class:"
   ]
  },
  {
   "cell_type": "code",
   "execution_count": 23,
   "metadata": {},
   "outputs": [],
   "source": [
    "class Agent(object):\n",
    "    def __init__(self, epsilon=0.1, n_action=4):\n",
    "        self.epsilon = epsilon\n",
    "        self.n_action = n_action\n",
    "    \n",
    "    def set_epsilon(self,e):\n",
    "        self.epsilon = e\n",
    "    \n",
    "    def get_epsilon(self):\n",
    "        return self.epsilon\n",
    "\n",
    "    def act(self,s,train=True):\n",
    "        \"\"\" This function should return the next action to do:\n",
    "        an integer between 0 and 4 (not included) with a random exploration of epsilon\"\"\"\n",
    "        if train:\n",
    "            if np.random.rand() <= self.epsilon: # np.random.rand() returns a single random float\n",
    "                a = np.random.randint(0, self.n_action, size=1)[0] # One number between 0 and n_act\n",
    "            else:\n",
    "                a = self.learned_act(s)\n",
    "        else: # in some cases, this can improve the performance.. remove it if poor performances\n",
    "            a = self.learned_act(s)\n",
    "\n",
    "        return a\n",
    "\n",
    "    def learned_act(self,s):\n",
    "        \"\"\" Act via the policy of the agent, from a given state s\n",
    "        it proposes an action a\"\"\"\n",
    "        pass\n",
    "\n",
    "    def reinforce(self, s, n_s, a, r, game_over_):\n",
    "        \"\"\" This function is the core of the learning algorithm. \n",
    "        It takes as an input the current state s_, the next state n_s_\n",
    "        the action a_ used to move from s_ to n_s_ and the reward r_.\n",
    "        \n",
    "        Its goal is to learn a policy.\n",
    "        \"\"\"\n",
    "        pass\n",
    "\n",
    "    def save(self):\n",
    "        \"\"\" This function returns basic stats if applicable: the\n",
    "        loss and/or the model\"\"\"\n",
    "        pass\n",
    "\n",
    "    def load(self):\n",
    "        \"\"\" This function allows to restore a model\"\"\"\n",
    "        pass"
   ]
  },
  {
   "cell_type": "markdown",
   "metadata": {},
   "source": [
    "***\n",
    "__Question 1__:\n",
    "Explain the function act. Why is ```epsilon``` essential?"
   ]
  },
  {
   "cell_type": "markdown",
   "metadata": {},
   "source": [
    "The function act gives the action that the agent has to do. Epsilon is essential in this function and we will explain why. \n",
    "\n",
    "In the situation where there is an agent in an environment that wants to optimize the reward, there are two kind of actions: Exploitation and Exploration. \n",
    "Exploration is all about finding more information about an environment, whereas exploitation is exploiting already known information to maximize the rewards.\n",
    "\n",
    "If at the beginning, we don't \"force\" the algorithm to to explorations actions, it will not find the optimal actions to maximize rewards. So, we need an $ \\epsilon $ term which will manage the tradeoff between exploration and exploitation. \n",
    "\n",
    "At each step, we generate a random number r. If $ r > \\epsilon $, then we will do “exploitation” (this means we use what we already know to select the best action at each step). Else, we’ll do exploration.\n",
    "\n",
    "The idea is that we must have a big epsilon at the beginning of the training of our model. Then, reduce it progressively as the agent becomes more confident at estimating values."
   ]
  },
  {
   "cell_type": "markdown",
   "metadata": {},
   "source": [
    "***\n",
    "### The Game"
   ]
  },
  {
   "cell_type": "markdown",
   "metadata": {},
   "source": [
    "The ```Agent``` and the ```Environment``` work in an interlaced way as in the following (take some time to understand this code as it is the core of the project)\n",
    "\n",
    "```python\n",
    "\n",
    "epoch = 300\n",
    "env = Environment()\n",
    "agent = Agent()\n",
    "\n",
    "\n",
    "# Number of won games\n",
    "score = 0\n",
    "loss = 0\n",
    "\n",
    "\n",
    "for e in range(epoch):\n",
    "    # At each epoch, we restart to a fresh game and get the initial state\n",
    "    state = env.reset()\n",
    "    # This assumes that the games will end\n",
    "    game_over = False\n",
    "\n",
    "    win = 0\n",
    "    lose = 0\n",
    "    \n",
    "    while not game_over:\n",
    "        # The agent performs an action\n",
    "        action = agent.act(state)\n",
    "\n",
    "        # Apply an action to the environment, get the next state, the reward\n",
    "        # and if the games end\n",
    "        prev_state = state\n",
    "        state, reward, game_over = env.act(action)\n",
    "\n",
    "        # Update the counters\n",
    "        if reward > 0:\n",
    "            win = win + reward\n",
    "        if reward < 0:\n",
    "            lose = lose -reward\n",
    "\n",
    "        # Apply the reinforcement strategy\n",
    "        loss = agent.reinforce(prev_state, state,  action, reward, game_over)\n",
    "\n",
    "    # Save as a mp4\n",
    "    if e % 10 == 0:\n",
    "        env.draw(e)\n",
    "\n",
    "    # Update stats\n",
    "    score += win-lose\n",
    "\n",
    "    print(\"Epoch {:03d}/{:03d} | Loss {:.4f} | Win/lose count {}/{} ({})\"\n",
    "          .format(e, epoch, loss, win, lose, win-lose))\n",
    "    agent.save()\n",
    "```"
   ]
  },
  {
   "cell_type": "markdown",
   "metadata": {},
   "source": [
    "# The game, *eat cheese*"
   ]
  },
  {
   "cell_type": "markdown",
   "metadata": {},
   "source": [
    "A rat runs on an island and tries to eat as much as possible. The island is subdivided into $N\\times N$ cells, in which there are cheese (+0.5) and poisonous cells (-1). The rat has a visibility of 2 cells (thus it can see $5^2$ cells). The rat is given a time $T$ to accumulate as much food as possible. It can perform 4 actions: going up, down, left, right. \n",
    "\n",
    "The goal is to code an agent to solve this task that will learn by trial and error. We propose the following environment:"
   ]
  },
  {
   "cell_type": "code",
   "execution_count": 24,
   "metadata": {},
   "outputs": [],
   "source": [
    "#test = np.concatenate((np.zeros((10,10,1)), np.zeros((10, 10,1))), axis=2)\n",
    "#print(np.reshape(test,[2,5,5,4]))\n"
   ]
  },
  {
   "cell_type": "code",
   "execution_count": 25,
   "metadata": {},
   "outputs": [],
   "source": [
    "class Environment(object):\n",
    "    def __init__(self, grid_size=10, max_time=500, temperature=0.1):\n",
    "        grid_size = grid_size+4\n",
    "        self.grid_size = grid_size\n",
    "        self.max_time = max_time\n",
    "        self.temperature = temperature\n",
    "\n",
    "        #board on which one plays\n",
    "        self.board = np.zeros((grid_size,grid_size))\n",
    "        self.position = np.zeros((grid_size,grid_size))\n",
    "\n",
    "        # coordinate of the mouse\n",
    "        self.x = 0\n",
    "        self.y = 1\n",
    "\n",
    "        # self time\n",
    "        self.t = 0\n",
    "\n",
    "        self.scale=16\n",
    "\n",
    "        self.to_draw = np.zeros((max_time+2, grid_size*self.scale, grid_size*self.scale, 3))\n",
    "\n",
    "\n",
    "    def draw(self,e):\n",
    "        skvideo.io.vwrite(str(e) + '.mp4', self.to_draw)\n",
    "\n",
    "    def get_frame(self,t):\n",
    "        b = np.zeros((self.grid_size,self.grid_size,3))+128 # \n",
    "        b[self.board>0,0] = 256  # For indices where self.board > 0, = 256 for b\n",
    "        b[self.board < 0, 2] = 256 # Same idea\n",
    "        b[self.x,self.y,:]=256\n",
    "        b[-2:,:,:]=0\n",
    "        b[:,-2:,:]=0\n",
    "        b[:2,:,:]=0\n",
    "        b[:,:2,:]=0\n",
    "        \n",
    "        b =  cv2.resize(b, None, fx=self.scale, fy=self.scale, interpolation=cv2.INTER_NEAREST)\n",
    "\n",
    "        self.to_draw[t,:,:,:]=b\n",
    "\n",
    "\n",
    "    def act(self, action):\n",
    "        \"\"\"This function returns the new state, reward and decides if the\n",
    "        game ends.\"\"\"\n",
    "\n",
    "        self.get_frame(int(self.t))\n",
    "\n",
    "        self.position = np.zeros((self.grid_size, self.grid_size))\n",
    "\n",
    "        self.position[0:2,:]= -1\n",
    "        self.position[:,0:2] = -1\n",
    "        self.position[-2:, :] = -1\n",
    "        self.position[-2:, :] = -1\n",
    "\n",
    "        self.position[self.x, self.y] = 1\n",
    "        if action == 0:\n",
    "            if self.x == self.grid_size-3:\n",
    "                self.x = self.x-1\n",
    "            else:\n",
    "                self.x = self.x + 1\n",
    "        elif action == 1:\n",
    "            if self.x == 2:\n",
    "                self.x = self.x+1\n",
    "            else:\n",
    "                self.x = self.x-1\n",
    "        elif action == 2:\n",
    "            if self.y == self.grid_size - 3:\n",
    "                self.y = self.y - 1\n",
    "            else:\n",
    "                self.y = self.y + 1\n",
    "        elif action == 3:\n",
    "            if self.y == 2:\n",
    "                self.y = self.y + 1\n",
    "            else:\n",
    "                self.y = self.y - 1\n",
    "        else:\n",
    "            RuntimeError('Error: action not recognized')\n",
    "\n",
    "        self.t = self.t + 1\n",
    "        reward = self.board[self.x, self.y]\n",
    "        self.board[self.x, self.y] = 0\n",
    "        game_over = self.t > self.max_time\n",
    "        state = np.concatenate((self.board.reshape(self.grid_size, self.grid_size,1),\n",
    "                        self.position.reshape(self.grid_size, self.grid_size,1)),axis=2)\n",
    "        state = state[self.x-2:self.x+3,self.y-2:self.y+3,:]\n",
    "\n",
    "        return state, reward, game_over\n",
    "\n",
    "    def reset(self):\n",
    "        \"\"\"This function resets the game and returns the initial state\"\"\"\n",
    "\n",
    "        self.x = np.random.randint(3, self.grid_size-3, size=1)[0]\n",
    "        self.y = np.random.randint(3, self.grid_size-3, size=1)[0]\n",
    "\n",
    "\n",
    "        bonus = 0.5*np.random.binomial(1,self.temperature,size=self.grid_size**2)\n",
    "        bonus = bonus.reshape(self.grid_size,self.grid_size)\n",
    "\n",
    "        malus = -1.0*np.random.binomial(1,self.temperature,size=self.grid_size**2)\n",
    "        malus = malus.reshape(self.grid_size, self.grid_size)\n",
    "\n",
    "        self.to_draw = np.zeros((self.max_time+2, self.grid_size*self.scale, self.grid_size*self.scale, 3))\n",
    "\n",
    "\n",
    "        malus[bonus>0]=0\n",
    "\n",
    "        self.board = bonus + malus\n",
    "\n",
    "        self.position = np.zeros((self.grid_size, self.grid_size))\n",
    "        self.position[0:2,:]= -1\n",
    "        self.position[:,0:2] = -1\n",
    "        self.position[-2:, :] = -1\n",
    "        self.position[-2:, :] = -1\n",
    "        self.board[self.x,self.y] = 0\n",
    "        self.t = 0\n",
    "\n",
    "        state = np.concatenate((\n",
    "                               self.board.reshape(self.grid_size, self.grid_size,1),\n",
    "                        self.position.reshape(self.grid_size, self.grid_size,1)),axis=2)\n",
    "\n",
    "        state = state[self.x - 2:self.x + 3, self.y - 2:self.y + 3, :]\n",
    "        return state # Dim: 5 x 5 x 10"
   ]
  },
  {
   "cell_type": "markdown",
   "metadata": {},
   "source": [
    "The following elements are important because they correspond to the hyper parameters for this project:"
   ]
  },
  {
   "cell_type": "code",
   "execution_count": 26,
   "metadata": {},
   "outputs": [],
   "source": [
    "# parameters\n",
    "size = 13\n",
    "T=200\n",
    "temperature=0.3\n",
    "epochs_train=20 # set small when debugging\n",
    "epochs_test=20 # set small when debugging\n",
    "\n",
    "# display videos\n",
    "def display_videos(name):\n",
    "    video = io.open(name, 'r+b').read()\n",
    "    encoded = base64.b64encode(video)\n",
    "    return '''<video alt=\"test\" controls>\n",
    "                <source src=\"data:video/mp4;base64,{0}\" type=\"video/mp4\" />\n",
    "             </video>'''.format(encoded.decode('ascii'))"
   ]
  },
  {
   "cell_type": "markdown",
   "metadata": {},
   "source": [
    "__Question 2__ Explain the use of the arrays ```position``` and ```board```."
   ]
  },
  {
   "cell_type": "markdown",
   "metadata": {},
   "source": [
    "The goal of the array position is to have the information: where is the rat on the board at a given time. For each call of the function \"act\", the array is updated by setting to zeros all the elements except the position of the rat that is set to 1. The goal of the array is to keep track of the position of the mouse.\n",
    "\n",
    "The array board defines the board on which the rat moves around, taking into account all the rewards (0, 0.5 or -1) depending on if the mouse in on a poisonous cell, a neutral one or a cheese. \n",
    "\n",
    "The rat has a partial view of the board (visibility of 2 cells from its current position: self.x and self.y)"
   ]
  },
  {
   "cell_type": "markdown",
   "metadata": {},
   "source": [
    "## Random Agent"
   ]
  },
  {
   "cell_type": "markdown",
   "metadata": {},
   "source": [
    "***\n",
    "__Question 3__ Implement a random Agent (only ```learned_act``` needs to be implemented):"
   ]
  },
  {
   "cell_type": "code",
   "execution_count": 27,
   "metadata": {},
   "outputs": [],
   "source": [
    "class RandomAgent(Agent):\n",
    "    def __init__(self):\n",
    "        super(RandomAgent, self).__init__()\n",
    "        pass\n",
    "\n",
    "    def learned_act(self, s):\n",
    "        return np.random.randint(0,3)"
   ]
  },
  {
   "cell_type": "markdown",
   "metadata": {},
   "source": [
    "***\n",
    "***\n",
    "__Question 4__ Visualize the game moves. You need to fill in the following function for the evaluation:"
   ]
  },
  {
   "cell_type": "code",
   "execution_count": 28,
   "metadata": {},
   "outputs": [],
   "source": [
    "def test(agent,env,epochs,prefix=''):\n",
    "    # Number of won games\n",
    "    score = 0\n",
    "        \n",
    "    for e in range(epochs):\n",
    "        \n",
    "        # At each epoch, we restart to a fresh game and get the initial state\n",
    "        state = env.reset()\n",
    "        # This assumes that the games will end\n",
    "        game_over = False\n",
    "\n",
    "        win = 0\n",
    "        lose = 0\n",
    "        \n",
    "        while not game_over:\n",
    "            # The agent performs an action\n",
    "            action = agent.learned_act(state)\n",
    "\n",
    "            # Apply an action to the environment, get the next state, the reward\n",
    "            # and if the games end\n",
    "            prev_state = state\n",
    "            state, reward, game_over = env.act(action)\n",
    "\n",
    "            # Update the counters\n",
    "            if reward > 0:\n",
    "                win = win + reward\n",
    "            if reward < 0:\n",
    "                lose = lose -reward\n",
    "\n",
    "            \n",
    "        \n",
    "        # Save as a mp4\n",
    "        env.draw(prefix+str(e))\n",
    "\n",
    "        # Update stats\n",
    "        score = score + win-lose\n",
    "\n",
    "        print(\"Win/lose count {}/{}. Average score ({})\"\n",
    "              .format(win, lose, score/(1+e)))\n",
    "    print('Final score: '+str(score/epochs))\n"
   ]
  },
  {
   "cell_type": "code",
   "execution_count": 29,
   "metadata": {},
   "outputs": [
    {
     "name": "stdout",
     "output_type": "stream",
     "text": [
      "Win/lose count 2.5/2.0. Average score (0.5)\n",
      "Win/lose count 2.5/3.0. Average score (0.0)\n",
      "Win/lose count 6.5/13.0. Average score (-2.1666666666666665)\n",
      "Win/lose count 5.0/5.0. Average score (-1.625)\n",
      "Win/lose count 5.5/7.0. Average score (-1.6)\n",
      "Win/lose count 2.5/4.0. Average score (-1.5833333333333333)\n",
      "Win/lose count 4.0/10.0. Average score (-2.2142857142857144)\n",
      "Win/lose count 6.0/7.0. Average score (-2.0625)\n",
      "Win/lose count 6.5/9.0. Average score (-2.111111111111111)\n",
      "Win/lose count 5.5/10.0. Average score (-2.35)\n",
      "Win/lose count 3.0/6.0. Average score (-2.409090909090909)\n",
      "Win/lose count 7.5/8.0. Average score (-2.25)\n",
      "Win/lose count 4.5/7.0. Average score (-2.269230769230769)\n",
      "Win/lose count 4.0/2.0. Average score (-1.9642857142857142)\n",
      "Win/lose count 4.0/8.0. Average score (-2.1)\n",
      "Win/lose count 5.0/8.0. Average score (-2.15625)\n",
      "Win/lose count 7.0/10.0. Average score (-2.2058823529411766)\n",
      "Win/lose count 8.0/5.0. Average score (-1.9166666666666667)\n",
      "Win/lose count 3.5/7.0. Average score (-2.0)\n",
      "Win/lose count 7.0/8.0. Average score (-1.95)\n",
      "Final score: -1.95\n"
     ]
    },
    {
     "data": {
      "text/html": [
       "<video alt=\"test\" controls>\n",
       "                <source src=\"data:video/mp4;base64,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\" type=\"video/mp4\" />\n",
       "             </video>"
      ],
      "text/plain": [
       "<IPython.core.display.HTML object>"
      ]
     },
     "execution_count": 29,
     "metadata": {},
     "output_type": "execute_result"
    }
   ],
   "source": [
    "# Initialize the game\n",
    "env = Environment(grid_size=size, max_time=T,temperature=temperature)\n",
    "\n",
    "# Initialize the agent!\n",
    "agent = RandomAgent()\n",
    "\n",
    "test(agent,env,epochs_test,prefix='random')\n",
    "HTML(display_videos('random0.mp4'))"
   ]
  },
  {
   "cell_type": "markdown",
   "metadata": {},
   "source": [
    "***\n",
    "## DQN"
   ]
  },
  {
   "cell_type": "markdown",
   "metadata": {},
   "source": [
    "Let us assume here that $T=\\infty$.\n",
    "\n",
    "***\n",
    "__Question 5__ Let $\\pi$ be a policy, show that:\n",
    "\n",
    "\\begin{equation*}\n",
    "Q^{\\pi}(s,a)=E_{(s',a')\\sim p(.|s,a)}[r(s,a)+\\gamma Q^{\\pi}(s',a')]\n",
    "\\end{equation*}\n",
    "\n",
    "Then, show that for the optimal policy $\\pi^*$ (we assume its existence), the following holds: \n",
    "\n",
    "\\begin{equation*}\n",
    "Q^{*}(s,a)=E_{s'\\sim \\pi^*(.|s,a)}[r(s,a)+\\gamma\\max_{a'}Q^{*}(s',a')].\n",
    "\\end{equation*}\n",
    "Finally, deduce that a plausible objective is:\n",
    "\n",
    "\\begin{equation*}\n",
    "\\mathcal{L}(\\theta)=E_{s' \\sim \\pi^*(.|s,a)}\\Vert r+\\gamma\\max\\max_{a'}Q(s',a',\\theta)-Q(s,a,\\theta)\\Vert^{2}.\n",
    "\\end{equation*}\n",
    "\n",
    "\n"
   ]
  },
  {
   "cell_type": "markdown",
   "metadata": {},
   "source": [
    "The action-value function can be written as:\n",
    "\n",
    "$ Q^\\pi(s,a)=E_{p^{\\pi}}[\\sum_{t\\leq T}\\gamma^{t}r(s_{t},a_{t})|s_{0}=s,a_{0}=a] \\> \\\\\n",
    " = E_{p^{\\pi}}[r(s,a) + \\gamma Q^{\\pi}(s',a')]   $\n",
    " \n",
    " Then, $ Q^*(s,a) = max_{\\pi}~E_{p^{\\pi}}[r(s,a) + \\gamma Q^{\\pi}(s',a')] \\\\\n",
    "         = E_{\\pi *}[r(s,a) + \\gamma  Q^{\\pi ^*}(s',a')] \\\\\n",
    "         = E_{p^{\\pi}}[r(s,a) + \\gamma max_{a'} Q^{*}(s',a')]\n",
    " $\n",
    " \n",
    " \n"
   ]
  },
  {
   "cell_type": "markdown",
   "metadata": {},
   "source": [
    "***\n",
    "The DQN-learning algorithm relies on these derivations to train the parameters $\\theta$ of a Deep Neural Network:\n",
    "\n",
    "1. At the state $s_t$, select the action $a_t$ with best reward using $Q_t$ and store the results;\n",
    "\n",
    "2. Obtain the new state $s_{t+1}$ from the environment $p$;\n",
    "\n",
    "3. Store $(s_t,a_t,s_{t+1})$;\n",
    "\n",
    "4. Obtain $Q_{t+1}$ by minimizing  $\\mathcal{L}$ from a recovered batch from the previously stored results.\n",
    "\n",
    "***\n",
    "__Question 6__ Implement the class ```Memory``` that stores moves (in a replay buffer) via ```remember``` and provides a ```random_access``` to these. Specify a maximum memory size to avoid side effects. You can for example use a ```list()``` and set by default ```max_memory=100```."
   ]
  },
  {
   "cell_type": "code",
   "execution_count": 30,
   "metadata": {},
   "outputs": [],
   "source": [
    "class Memory(object):\n",
    "    def __init__(self, max_memory=100):\n",
    "        self.max_memory = max_memory\n",
    "        self.memory = list() \n",
    "    def remember(self, m):\n",
    "        self.memory.append(m)\n",
    "        if len(self.memory) > self.max_memory:\n",
    "            del self.memory[0]\n",
    "\n",
    "    def random_access(self):\n",
    "        idx = np.random.randint(0,len(self.memory))\n",
    "        return self.memory[idx]"
   ]
  },
  {
   "cell_type": "code",
   "execution_count": null,
   "metadata": {},
   "outputs": [],
   "source": []
  },
  {
   "cell_type": "markdown",
   "metadata": {},
   "source": [
    "***\n",
    "The pipeline we will use for training is given below:"
   ]
  },
  {
   "cell_type": "code",
   "execution_count": 31,
   "metadata": {},
   "outputs": [],
   "source": [
    "def train(agent,env,epoch,prefix=''):\n",
    "    # Number of won games\n",
    "    score = 0\n",
    "    loss = 0\n",
    "\n",
    "    for e in range(epoch):\n",
    "        # At each epoch, we restart to a fresh game and get the initial state\n",
    "        state = env.reset()\n",
    "        # This assumes that the games will terminate\n",
    "        game_over = False\n",
    "\n",
    "        win = 0\n",
    "        lose = 0\n",
    "\n",
    "        while not game_over:\n",
    "            # The agent performs an action\n",
    "            action = agent.act(state)\n",
    "\n",
    "            # Apply an action to the environment, get the next state, the reward\n",
    "            # and if the games end\n",
    "            prev_state = state\n",
    "            state, reward, game_over = env.act(action)\n",
    "\n",
    "            # Update the counters\n",
    "            if reward > 0:\n",
    "                win = win + reward\n",
    "            if reward < 0:\n",
    "                lose = lose -reward\n",
    "\n",
    "            # Apply the reinforcement strategy\n",
    "            loss = agent.reinforce(prev_state, state,  action, reward, game_over)\n",
    "\n",
    "        # Save as a mp4\n",
    "        if e % 10 == 0:\n",
    "            env.draw(prefix+str(e))\n",
    "\n",
    "        # Update stats\n",
    "        score += win-lose\n",
    "\n",
    "        print(\"Epoch {:03d}/{:03d} | Loss {:.4f} | Win/lose count {}/{} ({})\"\n",
    "              .format(e, epoch, loss, win, lose, win-lose))\n",
    "        agent.save(name_weights=prefix+'model.h5',name_model=prefix+'model.json')\n",
    "    print('Final score: '+str(score/epoch))"
   ]
  },
  {
   "cell_type": "markdown",
   "metadata": {},
   "source": [
    "***\n",
    "__Question 7__ Implement the DQN training algorithm using a cascade of fully connected layers. You can use different learning rate, batch size or memory size parameters. In particular, the loss might oscillate while the player will start to win the games. You have to find a good criterium."
   ]
  },
  {
   "cell_type": "code",
   "execution_count": null,
   "metadata": {},
   "outputs": [],
   "source": []
  },
  {
   "cell_type": "code",
   "execution_count": 32,
   "metadata": {},
   "outputs": [],
   "source": [
    "class DQN(Agent):\n",
    "    def __init__(self, grid_size,  epsilon = 0.1, memory_size=100, batch_size = 16,n_state=2):\n",
    "        super(DQN, self).__init__(epsilon = epsilon)\n",
    "\n",
    "        # Discount for Q learning\n",
    "        self.discount = 0.99\n",
    "        \n",
    "        self.grid_size = grid_size\n",
    "        \n",
    "        # number of state\n",
    "        self.n_state = n_state\n",
    "\n",
    "        # Memory\n",
    "        self.memory = Memory(memory_size)\n",
    "        \n",
    "        # Batch size when learning\n",
    "        self.batch_size = batch_size\n",
    "    \n",
    "\n",
    "    def learned_act(self, s):\n",
    "        \n",
    "        s = np.reshape(s,[1,5,5,self.n_state])\n",
    "        # Predict the reward value based on the given state\n",
    "        act_values = self.model.predict(s)\n",
    "        return np.argmax(act_values[0])\n",
    "\n",
    "    \n",
    "    def reinforce(self, s_, n_s_, a_, r_, game_over_):\n",
    "        # Two steps: first memorize the states, second learn from the pool\n",
    "        s_ = np.reshape(s_,[1,5,5,self.n_state])\n",
    "        n_s_ = np.reshape(n_s_,[1,5,5,self.n_state])\n",
    "        self.memory.remember([s_, n_s_, a_, r_, game_over_])\n",
    "        \n",
    "        \n",
    "        input_states = np.zeros((self.batch_size, 5,5,self.n_state))\n",
    "        target_q = np.zeros((self.batch_size, 4))\n",
    "\n",
    "        for i in range(self.batch_size):\n",
    "            target = r_\n",
    "            # Take one of the elements of self.memory\n",
    "            minibatch = self.memory.random_access()\n",
    "            s_= minibatch[0]\n",
    "            n_s_= minibatch[1]\n",
    "            a_ = minibatch[2]\n",
    "            r_= minibatch[3]\n",
    "            game_over_= minibatch[4]\n",
    "            \n",
    "            input_states[i]= s_\n",
    "            \n",
    "            if game_over_:\n",
    "                target= r_\n",
    "\n",
    "            else:               \n",
    "                target = (r_ + self.discount * np.amax(self.model.predict(n_s_)[0]))\n",
    "            \n",
    "            target_f = self.model.predict(s_) \n",
    "            \n",
    "            # For each move, the estimated reward (list of list of 4 elements)\n",
    "            # target_f[0] is the same but with just a list\n",
    "            # target_f[0][a_] takes the position in the list (0,1,2 or 3) of a_ and gives the \n",
    "            # value of target\n",
    "            target_f[0][a_] = target\n",
    "            self.model.fit(s_, target_f, epochs=1, verbose=0)\n",
    "            \n",
    "            target_q[i]=target_f\n",
    "            \n",
    "        # HINT: Clip the target to avoid exploiding gradients.. -- clipping is a bit tighter\n",
    "        target_q = np.clip(target_q, -3, 3)\n",
    "\n",
    "        l = self.model.train_on_batch(input_states, target_q)\n",
    "\n",
    "        return l\n",
    "\n",
    "    def save(self,name_weights='model.h5',name_model='model.json'):\n",
    "        self.model.save_weights(name_weights, overwrite=True)\n",
    "        with open(name_model, \"w\") as outfile:\n",
    "            json.dump(self.model.to_json(), outfile)\n",
    "            \n",
    "    def load(self,name_weights='model.h5',name_model='model.json'):\n",
    "        with open(name_model, \"r\") as jfile:\n",
    "            model = model_from_json(json.load(jfile))\n",
    "        model.load_weights(name_weights)\n",
    "        model.compile(\"sgd\", \"mse\")\n",
    "        self.model = model\n",
    "\n",
    "            \n",
    "\n",
    "class DQN_FC(DQN):\n",
    "    def __init__(self, lr=0.1,  *args, **kwargs):\n",
    "        super(DQN_FC, self).__init__(*args,**kwargs)\n",
    "        \n",
    "        # NN Model\n",
    "        state_size = 50\n",
    "        \n",
    "        model = Sequential()\n",
    "        model.add(Reshape((state_size,), input_shape=(5,5,self.n_state)))\n",
    "        model.add(Dense(512, input_dim=state_size, activation='relu'))\n",
    "        model.add(Dense(128, activation='relu'))\n",
    "        model.add(Dense(4, activation='linear'))\n",
    "        model.compile(loss='mse', optimizer=Adam(lr=lr))\n",
    "        self.model = model\n",
    "        "
   ]
  },
  {
   "cell_type": "code",
   "execution_count": 33,
   "metadata": {},
   "outputs": [
    {
     "name": "stdout",
     "output_type": "stream",
     "text": [
      "Epoch 000/020 | Loss 1.1151 | Win/lose count 3.0/1.0 (2.0)\n",
      "Epoch 001/020 | Loss 0.0638 | Win/lose count 5.0/10.0 (-5.0)\n",
      "Epoch 002/020 | Loss 0.1453 | Win/lose count 8.0/12.0 (-4.0)\n",
      "Epoch 003/020 | Loss 0.1621 | Win/lose count 7.0/12.0 (-5.0)\n",
      "Epoch 004/020 | Loss 0.1266 | Win/lose count 10.0/12.0 (-2.0)\n",
      "Epoch 005/020 | Loss 0.1132 | Win/lose count 4.5/19.0 (-14.5)\n",
      "Epoch 006/020 | Loss 0.1612 | Win/lose count 13.0/17.0 (-4.0)\n",
      "Epoch 007/020 | Loss 1.0815 | Win/lose count 8.0/16.0 (-8.0)\n",
      "Epoch 008/020 | Loss 0.0412 | Win/lose count 10.0/9.0 (1.0)\n",
      "Epoch 009/020 | Loss 0.2122 | Win/lose count 11.0/18.0 (-7.0)\n",
      "Epoch 010/020 | Loss 0.0758 | Win/lose count 7.5/5.0 (2.5)\n",
      "Epoch 011/020 | Loss 0.2739 | Win/lose count 10.5/13.0 (-2.5)\n",
      "Epoch 012/020 | Loss 0.2506 | Win/lose count 3.5/8.0 (-4.5)\n",
      "Epoch 013/020 | Loss 0.2877 | Win/lose count 3.5/5.0 (-1.5)\n",
      "Epoch 014/020 | Loss 0.3208 | Win/lose count 7.0/9.0 (-2.0)\n",
      "Epoch 015/020 | Loss 0.1360 | Win/lose count 7.5/16.0 (-8.5)\n",
      "Epoch 016/020 | Loss 0.1929 | Win/lose count 6.5/14.0 (-7.5)\n",
      "Epoch 017/020 | Loss 0.3796 | Win/lose count 12.5/14.0 (-1.5)\n",
      "Epoch 018/020 | Loss 0.6698 | Win/lose count 6.5/10.0 (-3.5)\n",
      "Epoch 019/020 | Loss 0.1513 | Win/lose count 6.0/10.0 (-4.0)\n",
      "Final score: -3.975\n"
     ]
    },
    {
     "data": {
      "text/html": [
       "<video alt=\"test\" controls>\n",
       "                <source src=\"data:video/mp4;base64,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\" type=\"video/mp4\" />\n",
       "             </video>"
      ],
      "text/plain": [
       "<IPython.core.display.HTML object>"
      ]
     },
     "execution_count": 33,
     "metadata": {},
     "output_type": "execute_result"
    }
   ],
   "source": [
    "env = Environment(grid_size=size, max_time=T, temperature=0.3)\n",
    "agent = DQN_FC(lr=0.1, grid_size=10, epsilon = 0.1, memory_size=2000, batch_size = 32)\n",
    "train(agent, env, epochs_train, prefix='fc_train')\n",
    "HTML(display_videos('fc_train0.mp4'))"
   ]
  },
  {
   "cell_type": "code",
   "execution_count": 34,
   "metadata": {},
   "outputs": [
    {
     "name": "stdout",
     "output_type": "stream",
     "text": [
      "\n",
      " For learning rate 0.01\n",
      "Epoch 000/004 | Loss 0.0298 | Win/lose count 5.5/13.0 (-7.5)\n",
      "Epoch 001/004 | Loss 0.0198 | Win/lose count 10.5/7.0 (3.5)\n",
      "Epoch 002/004 | Loss 0.0659 | Win/lose count 4.5/8.0 (-3.5)\n",
      "Epoch 003/004 | Loss 0.0180 | Win/lose count 4.0/13.0 (-9.0)\n",
      "Final score: -4.125\n",
      "\n",
      " For learning rate 0.05\n",
      "Epoch 000/004 | Loss 40.2525 | Win/lose count 10.5/16.0 (-5.5)\n",
      "Epoch 001/004 | Loss 0.0098 | Win/lose count 6.5/6.0 (0.5)\n",
      "Epoch 002/004 | Loss 0.0588 | Win/lose count 5.5/6.0 (-0.5)\n",
      "Epoch 003/004 | Loss 0.0522 | Win/lose count 8.0/13.0 (-5.0)\n",
      "Final score: -2.625\n",
      "\n",
      " For learning rate 0.2\n",
      "Epoch 000/004 | Loss 152880.7031 | Win/lose count 3.0/1.0 (2.0)\n",
      "Epoch 001/004 | Loss 1824.1357 | Win/lose count 4.0/4.0 (0.0)\n",
      "Epoch 002/004 | Loss 1591.5972 | Win/lose count 1.0/4.0 (-3.0)\n",
      "Epoch 003/004 | Loss 224.2659 | Win/lose count 2.5/1.0 (1.5)\n",
      "Final score: 0.125\n"
     ]
    }
   ],
   "source": [
    "# We change the number of epochs for computional cost reasons\n",
    "learning_rate = [0.01, 0.05, 0.2]\n",
    "for l_r in learning_rate:\n",
    "    print(\"\\n For learning rate {0}\".format(l_r)  )\n",
    "    env = Environment(grid_size=size, max_time=T, temperature=0.3)\n",
    "    agent = DQN_FC(lr=l_r, grid_size= size,  epsilon = 0.1, memory_size=2000, batch_size = 32)\n",
    "    train(agent, env, 4, prefix='fc_train')"
   ]
  },
  {
   "cell_type": "markdown",
   "metadata": {},
   "source": [
    "***\n",
    "***\n",
    "__Question 8__ Implement the DQN training algorithm using a CNN (for example, 2 convolutional layers and one final fully connected layer)."
   ]
  },
  {
   "cell_type": "code",
   "execution_count": 44,
   "metadata": {},
   "outputs": [],
   "source": [
    "class DQN_CNN(DQN):\n",
    "    def __init__(self, *args,lr=0.1,**kwargs):\n",
    "        super(DQN_CNN, self).__init__(*args,**kwargs)\n",
    "        \n",
    "        filters = 70\n",
    "        kernel_size = (2,2)\n",
    "        \n",
    "        model = Sequential()\n",
    "        model.add(Conv2D(filters, kernel_size, input_shape=(5,5,self.n_state), activation='relu'))\n",
    "        model.add(Conv2D(filters, kernel_size, activation='relu'))\n",
    "        model.add(Flatten())\n",
    "        model.add(Dense(4, activation='linear'))\n",
    "        #print(model.summary())\n",
    "        model.compile(sgd(lr=lr, decay=1e-4, momentum=0.0), \"mse\")\n",
    "        self.model = model"
   ]
  },
  {
   "cell_type": "code",
   "execution_count": 45,
   "metadata": {},
   "outputs": [
    {
     "name": "stdout",
     "output_type": "stream",
     "text": [
      "Epoch 000/020 | Loss nan | Win/lose count 4.0/1.0 (3.0)\n",
      "Epoch 001/020 | Loss nan | Win/lose count 1.0/2.0 (-1.0)\n",
      "Epoch 002/020 | Loss nan | Win/lose count 2.5/2.0 (0.5)\n",
      "Epoch 003/020 | Loss nan | Win/lose count 0.5/3.0 (-2.5)\n",
      "Epoch 004/020 | Loss nan | Win/lose count 0.5/2.0 (-1.5)\n",
      "Epoch 005/020 | Loss nan | Win/lose count 3.0/0 (3.0)\n",
      "Epoch 006/020 | Loss nan | Win/lose count 3.5/8.0 (-4.5)\n",
      "Epoch 007/020 | Loss nan | Win/lose count 2.5/2.0 (0.5)\n",
      "Epoch 008/020 | Loss nan | Win/lose count 3.5/7.0 (-3.5)\n",
      "Epoch 009/020 | Loss nan | Win/lose count 3.0/3.0 (0.0)\n",
      "Epoch 010/020 | Loss nan | Win/lose count 1.0/0 (1.0)\n",
      "Epoch 011/020 | Loss nan | Win/lose count 1.0/5.0 (-4.0)\n",
      "Epoch 012/020 | Loss nan | Win/lose count 6.5/4.0 (2.5)\n",
      "Epoch 013/020 | Loss nan | Win/lose count 2.0/1.0 (1.0)\n",
      "Epoch 014/020 | Loss nan | Win/lose count 1.0/0 (1.0)\n",
      "Epoch 015/020 | Loss nan | Win/lose count 2.0/2.0 (0.0)\n",
      "Epoch 016/020 | Loss nan | Win/lose count 1.0/5.0 (-4.0)\n",
      "Epoch 017/020 | Loss nan | Win/lose count 4.5/4.0 (0.5)\n",
      "Epoch 018/020 | Loss nan | Win/lose count 3.0/2.0 (1.0)\n",
      "Epoch 019/020 | Loss nan | Win/lose count 5.0/3.0 (2.0)\n",
      "Final score: -0.25\n"
     ]
    },
    {
     "data": {
      "text/html": [
       "<video alt=\"test\" controls>\n",
       "                <source src=\"data:video/mp4;base64,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\" type=\"video/mp4\" />\n",
       "             </video>"
      ],
      "text/plain": [
       "<IPython.core.display.HTML object>"
      ]
     },
     "execution_count": 45,
     "metadata": {},
     "output_type": "execute_result"
    }
   ],
   "source": [
    "env = Environment(grid_size=size, max_time=T, temperature=0.3)\n",
    "agent = DQN_CNN(lr=.1,grid_size = size, epsilon = 0.1, memory_size=2000, batch_size = 32)\n",
    "train(agent,env,epochs_train,prefix='cnn_train')\n",
    "HTML(display_videos('cnn_train10.mp4'))"
   ]
  },
  {
   "cell_type": "markdown",
   "metadata": {},
   "source": [
    "***\n",
    "***\n",
    "__Question 9__ Test both algorithms and compare their performances. Which issue(s) do you observe? Observe also different behaviors by changing the temperature."
   ]
  },
  {
   "cell_type": "code",
   "execution_count": 46,
   "metadata": {},
   "outputs": [
    {
     "name": "stdout",
     "output_type": "stream",
     "text": [
      "\n",
      "Test of the CNN\n",
      "Win/lose count 0/0. Average score (0.0)\n",
      "Win/lose count 1.0/3.0. Average score (-1.0)\n",
      "Win/lose count 0/1.0. Average score (-1.0)\n",
      "Win/lose count 3.0/0. Average score (0.0)\n",
      "Win/lose count 0/1.0. Average score (-0.2)\n",
      "Win/lose count 1.0/0. Average score (0.0)\n",
      "Win/lose count 0/2.0. Average score (-0.2857142857142857)\n",
      "Win/lose count 2.0/1.0. Average score (-0.125)\n",
      "Win/lose count 2.5/0. Average score (0.16666666666666666)\n",
      "Win/lose count 0/0. Average score (0.15)\n",
      "Win/lose count 1.0/1.0. Average score (0.13636363636363635)\n",
      "Win/lose count 1.0/2.0. Average score (0.041666666666666664)\n",
      "Win/lose count 2.0/0. Average score (0.19230769230769232)\n",
      "Win/lose count 0.5/0. Average score (0.21428571428571427)\n",
      "Win/lose count 0/0. Average score (0.2)\n",
      "Win/lose count 2.5/2.0. Average score (0.21875)\n",
      "Win/lose count 1.0/2.0. Average score (0.14705882352941177)\n",
      "Win/lose count 0.5/0. Average score (0.16666666666666666)\n",
      "Win/lose count 1.0/2.0. Average score (0.10526315789473684)\n",
      "Win/lose count 0/0. Average score (0.1)\n",
      "Final score: 0.1\n",
      "\n",
      "Test of the FC\n",
      "Win/lose count 0.5/1.0. Average score (-0.5)\n",
      "Win/lose count 0/1.0. Average score (-0.75)\n",
      "Win/lose count 1.5/1.0. Average score (-0.3333333333333333)\n",
      "Win/lose count 0/0. Average score (-0.25)\n",
      "Win/lose count 0.5/0. Average score (-0.1)\n",
      "Win/lose count 0/1.0. Average score (-0.25)\n",
      "Win/lose count 1.5/3.0. Average score (-0.42857142857142855)\n",
      "Win/lose count 1.5/0. Average score (-0.1875)\n",
      "Win/lose count 0.5/0. Average score (-0.1111111111111111)\n",
      "Win/lose count 0/2.0. Average score (-0.3)\n",
      "Win/lose count 0/1.0. Average score (-0.36363636363636365)\n",
      "Win/lose count 1.0/2.0. Average score (-0.4166666666666667)\n",
      "Win/lose count 0/0. Average score (-0.38461538461538464)\n",
      "Win/lose count 0.5/2.0. Average score (-0.4642857142857143)\n",
      "Win/lose count 0.5/1.0. Average score (-0.4666666666666667)\n",
      "Win/lose count 1.0/1.0. Average score (-0.4375)\n",
      "Win/lose count 1.5/2.0. Average score (-0.4411764705882353)\n",
      "Win/lose count 1.0/0. Average score (-0.3611111111111111)\n",
      "Win/lose count 1.0/1.0. Average score (-0.34210526315789475)\n",
      "Win/lose count 3.0/3.0. Average score (-0.325)\n",
      "Final score: -0.325\n"
     ]
    }
   ],
   "source": [
    "env = Environment(grid_size=size, max_time=T,temperature=0.3)\n",
    "agent_cnn = DQN_CNN(lr=.1, grid_size=size, epsilon = 0.1, memory_size=2000, batch_size = 32)\n",
    "agent_cnn.load(name_weights='cnn_trainmodel.h5',name_model='cnn_trainmodel.json')\n",
    "\n",
    "agent_fc = DQN_FC(lr=.1, grid_size=size, epsilon = 0.1, memory_size=2000, batch_size = 32)\n",
    "agent_fc.load(name_weights='fc_trainmodel.h5',name_model='fc_trainmodel.json')\n",
    "print('\\nTest of the CNN')\n",
    "test(agent_cnn,env,epochs_test,prefix='cnn_test')\n",
    "print('\\nTest of the FC')\n",
    "test(agent_fc,env,epochs_test,prefix='fc_test')"
   ]
  },
  {
   "cell_type": "code",
   "execution_count": 47,
   "metadata": {},
   "outputs": [
    {
     "data": {
      "text/html": [
       "<video alt=\"test\" controls>\n",
       "                <source src=\"data:video/mp4;base64,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\" type=\"video/mp4\" />\n",
       "             </video>"
      ],
      "text/plain": [
       "<IPython.core.display.HTML object>"
      ]
     },
     "execution_count": 47,
     "metadata": {},
     "output_type": "execute_result"
    }
   ],
   "source": [
    "HTML(display_videos('cnn_test10.mp4'))"
   ]
  },
  {
   "cell_type": "code",
   "execution_count": 48,
   "metadata": {},
   "outputs": [
    {
     "data": {
      "text/html": [
       "<video alt=\"test\" controls>\n",
       "                <source src=\"data:video/mp4;base64,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\" type=\"video/mp4\" />\n",
       "             </video>"
      ],
      "text/plain": [
       "<IPython.core.display.HTML object>"
      ]
     },
     "execution_count": 48,
     "metadata": {},
     "output_type": "execute_result"
    }
   ],
   "source": [
    "HTML(display_videos('fc_test10.mp4'))"
   ]
  },
  {
   "cell_type": "markdown",
   "metadata": {},
   "source": [
    "The first thing we can observe is that the result is really better with the CNN than with the standard NN. However, the exploration rate is very low, which means we can improve our performance if our agent does more exploration. \n",
    "\n",
    "When we change the temperature, the final score is higher, but it is biased because by doing so we increase the probability of having cheese and we lower the probility of poisonious cells"
   ]
  },
  {
   "cell_type": "markdown",
   "metadata": {},
   "source": [
    "***\n",
    "\n",
    "The algorithm tends to not explore the map which can be an issue. We propose two ideas in order to encourage exploration:\n",
    "1. Incorporating a decreasing $\\epsilon$-greedy exploration. You can use the method ```set_epsilon```\n",
    "2. Append via the environment a new state that describes if a cell has been visited or not\n",
    "\n",
    "***\n",
    "__Question 10__ Design a new ```train_explore``` function and environment class ```EnvironmentExploring``` to tackle the issue of exploration.\n",
    "\n"
   ]
  },
  {
   "cell_type": "code",
   "execution_count": 49,
   "metadata": {},
   "outputs": [],
   "source": [
    "def train_explore(agent,env,epoch,prefix=''):\n",
    "    # Number of won games\n",
    "    score = 0\n",
    "    loss = 0\n",
    "\n",
    "    \n",
    "    for e in range(epoch):\n",
    "        # At each epoch, we restart to a fresh game and get the initial state\n",
    "        state = env.reset()\n",
    "        # This assumes that the games will terminate\n",
    "        game_over = False\n",
    "\n",
    "        win = 0\n",
    "        lose = 0\n",
    "\n",
    "        while not game_over:\n",
    "            \n",
    "            # Add an epsilon\n",
    "            agent.set_epsilon(np.float(agent.get_epsilon())*0.995)\n",
    "            \n",
    "            # The agent performs an action\n",
    "            action = agent.act(state)\n",
    "\n",
    "            # Apply an action to the environment, get the next state, the reward\n",
    "            # and if the games end\n",
    "            prev_state = state\n",
    "            state, reward, game_over = env.act(action, train=True)\n",
    "\n",
    "            # Update the counters\n",
    "            if reward > 0:\n",
    "                win = win + reward\n",
    "            if reward < 0:\n",
    "                lose = lose - reward\n",
    "\n",
    "            # Apply the reinforcement strategy\n",
    "            loss = agent.reinforce(prev_state, state,  action, reward, game_over)\n",
    "            \n",
    "        # Save as a mp4       \n",
    "        env.draw(prefix+str(e))\n",
    "        \n",
    "        # Update stats\n",
    "        score += win-lose\n",
    "\n",
    "        print(\"Epoch {:03d}/{:03d} | Loss {:.4f} | Win/lose count {}/{} ({})\"\n",
    "              .format(e, epoch, loss, win, lose, win-lose))\n",
    "        agent.save(name_weights=prefix+'model.h5',name_model=prefix+'model.json')\n",
    "        \n",
    "    print('Final score: '+str(score/epoch))\n",
    "\n",
    "        \n",
    "class EnvironmentExploring(object):\n",
    "    def __init__(self, grid_size=10, max_time=500, temperature=0.1):\n",
    "        grid_size = grid_size + 4\n",
    "        self.grid_size = grid_size\n",
    "        self.max_time = max_time\n",
    "        self.temperature = temperature\n",
    "        \n",
    "        self.board = np.zeros([grid_size,grid_size])\n",
    "        self.position = np.zeros([grid_size,grid_size])\n",
    "        \n",
    "        # Add a malus position\n",
    "        self.malus_position = np.zeros([grid_size,grid_size])\n",
    "        \n",
    "        # coordinate of the rat\n",
    "        self.x = 0\n",
    "        self.y = 1\n",
    "        \n",
    "        # self time\n",
    "        self.t = 0\n",
    "        self.scale=16\n",
    "        self.to_draw = np.zeros((max_time+2, grid_size*self.scale, grid_size*self.scale, 3))\n",
    "        \n",
    "    def get_t(self):\n",
    "        return self.t\n",
    "    \n",
    "    def draw(self,e):\n",
    "        skvideo.io.vwrite(str(e) + '.mp4', self.to_draw)\n",
    "\n",
    "    def get_frame(self,t):\n",
    "        b = np.zeros((self.grid_size,self.grid_size,3))+128\n",
    "        b[self.board>0,0] = 256\n",
    "        b[self.board < 0, 2] = 256\n",
    "        b[self.x,self.y,:]=256\n",
    "        b[-2:,:,:]=0\n",
    "        b[:,-2:,:]=0\n",
    "        b[:2,:,:]=0\n",
    "        b[:,:2,:]=0\n",
    "        \n",
    "        b =  cv2.resize(b, None, fx=self.scale, fy=self.scale, interpolation=cv2.INTER_NEAREST)\n",
    "        self.to_draw[t,:,:,:]=b\n",
    "        \n",
    "    def act(self, action, train=True):\n",
    "        \"\"\"This function returns the new state, reward and decides if the\n",
    "        game ends.\"\"\"\n",
    "\n",
    "        self.get_frame(int(self.t))\n",
    "\n",
    "        self.position = np.zeros((self.grid_size, self.grid_size))\n",
    "\n",
    "        self.position[0:2,:]= -1\n",
    "        self.position[:,0:2] = -1\n",
    "        self.position[-2:, :] = -1\n",
    "        self.position[:, -2:] = -1\n",
    "\n",
    "        self.position[self.x, self.y] = 1\n",
    "        \n",
    "        if action == 0:\n",
    "            if self.x == self.grid_size-3:\n",
    "                self.x = self.x-1\n",
    "            else:\n",
    "                self.x = self.x + 1\n",
    "        elif action == 1:\n",
    "            if self.x == 2:\n",
    "                self.x = self.x+1\n",
    "            else:\n",
    "                self.x = self.x-1\n",
    "        elif action == 2:\n",
    "            if self.y == self.grid_size - 3:\n",
    "                self.y = self.y - 1\n",
    "            else:\n",
    "                self.y = self.y + 1\n",
    "        elif action == 3:\n",
    "            if self.y == 2:\n",
    "                self.y = self.y + 1\n",
    "            else:\n",
    "                self.y = self.y - 1\n",
    "        else:\n",
    "            RuntimeError('Error: action not recognized')\n",
    "        \n",
    "        self.t = self.t + 1\n",
    "        \n",
    "    ## In Environment exploring:\n",
    "        # You will have to change n_state to 3 because you will use one more layer!\n",
    "        reward = 0\n",
    "        if train:\n",
    "            reward -= self.malus_position[self.x, self.y]\n",
    "\n",
    "        self.malus_position[self.x, self.y] = 0.01\n",
    "        reward = reward + self.board[self.x, self.y]\n",
    "        self.board[self.x, self.y] = 0\n",
    "        game_over = self.t > self.max_time\n",
    "\n",
    "        # 3 \"feature\" states instead of 2\n",
    "        state = np.concatenate((self.malus_position.reshape(self.grid_size, self.grid_size,1),\n",
    "                                self.board.reshape(self.grid_size, self.grid_size,1),\n",
    "                                self.position.reshape(self.grid_size, self.grid_size,1)),axis=2)\n",
    "        \n",
    "        state = state[self.x-2:self.x+3,self.y-2:self.y+3,:]\n",
    "        \n",
    "        return state, reward, game_over\n",
    "    \n",
    "    def reset(self):\n",
    "        \"\"\"This function resets the game and returns the initial state\"\"\"\n",
    "\n",
    "        self.x = np.random.randint(3, self.grid_size-3, size=1)[0]\n",
    "        self.y = np.random.randint(3, self.grid_size-3, size=1)[0]\n",
    "\n",
    "\n",
    "        bonus = 0.5*np.random.binomial(1,self.temperature,size=self.grid_size**2)\n",
    "        bonus = bonus.reshape(self.grid_size,self.grid_size)\n",
    "\n",
    "        malus = -1.0*np.random.binomial(1,self.temperature,size=self.grid_size**2)\n",
    "        malus = malus.reshape(self.grid_size, self.grid_size)\n",
    "\n",
    "        self.to_draw = np.zeros((self.max_time+2, self.grid_size*self.scale, self.grid_size*self.scale, 3))\n",
    "        \n",
    "        malus[bonus>0]=0\n",
    "\n",
    "        self.board = bonus + malus\n",
    "\n",
    "        self.position = np.zeros((self.grid_size, self.grid_size))\n",
    "        self.position[0:2,:]= -1\n",
    "        self.position[:,0:2] = -1\n",
    "        self.position[-2:, :] = -1\n",
    "        self.position[:, -2:] = -1\n",
    "        self.board[self.x,self.y] = 0\n",
    "        self.malus_position[self.x, self.y] = 0\n",
    "\n",
    "        self.t = 0\n",
    "\n",
    "        state = np.concatenate((self.malus_position.reshape(self.grid_size, self.grid_size,1),\n",
    "                                self.board.reshape(self.grid_size, self.grid_size,1),\n",
    "                                self.position.reshape(self.grid_size, self.grid_size,1)),axis=2)\n",
    "\n",
    "        state = state[self.x - 2:self.x + 3, self.y - 2:self.y + 3, :]\n",
    "        \n",
    "        return state\n",
    "        "
   ]
  },
  {
   "cell_type": "code",
   "execution_count": 50,
   "metadata": {},
   "outputs": [
    {
     "name": "stdout",
     "output_type": "stream",
     "text": [
      "Epoch 000/020 | Loss nan | Win/lose count 2.5/6.799999999999963 (-4.299999999999963)\n",
      "Epoch 001/020 | Loss nan | Win/lose count 1.0/6.87999999999996 (-5.87999999999996)\n",
      "Epoch 002/020 | Loss nan | Win/lose count 1.49/1.9400000000000015 (-0.4500000000000015)\n",
      "Epoch 003/020 | Loss nan | Win/lose count 0.5/1.9600000000000015 (-1.4600000000000015)\n",
      "Epoch 004/020 | Loss nan | Win/lose count 0.5/4.949999999999958 (-4.449999999999958)\n",
      "Epoch 005/020 | Loss nan | Win/lose count 0/2.010000000000001 (-2.010000000000001)\n",
      "Epoch 006/020 | Loss nan | Win/lose count 2.0/2.8999999999999817 (-0.8999999999999817)\n",
      "Epoch 007/020 | Loss nan | Win/lose count 0.98/2.98999999999998 (-2.00999999999998)\n",
      "Epoch 008/020 | Loss nan | Win/lose count 0/2.9999999999999796 (-2.9999999999999796)\n",
      "Epoch 009/020 | Loss nan | Win/lose count 0.5/4.979999999999958 (-4.479999999999958)\n",
      "Epoch 010/020 | Loss nan | Win/lose count 1.5/3.919999999999959 (-2.419999999999959)\n",
      "Epoch 011/020 | Loss nan | Win/lose count 1.0/2.939999999999981 (-1.9399999999999809)\n",
      "Epoch 012/020 | Loss nan | Win/lose count 1.97/3.9499999999999593 (-1.9799999999999593)\n",
      "Epoch 013/020 | Loss nan | Win/lose count 1.5/1.9300000000000015 (-0.4300000000000015)\n",
      "Epoch 014/020 | Loss nan | Win/lose count 0/2.010000000000001 (-2.010000000000001)\n",
      "Epoch 015/020 | Loss nan | Win/lose count 2.95/3.949999999999959 (-0.9999999999999587)\n",
      "Epoch 016/020 | Loss nan | Win/lose count 0.98/5.9899999999999585 (-5.009999999999959)\n",
      "Epoch 017/020 | Loss nan | Win/lose count 1.47/6.969999999999959 (-5.499999999999959)\n",
      "Epoch 018/020 | Loss nan | Win/lose count 0.49/5.9899999999999585 (-5.499999999999958)\n",
      "Epoch 019/020 | Loss nan | Win/lose count 0/4.009999999999958 (-4.009999999999958)\n",
      "Final score: -2.9369999999999736\n"
     ]
    },
    {
     "data": {
      "text/html": [
       "<video alt=\"test\" controls>\n",
       "                <source src=\"data:video/mp4;base64,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\" type=\"video/mp4\" />\n",
       "             </video>"
      ],
      "text/plain": [
       "<IPython.core.display.HTML object>"
      ]
     },
     "execution_count": 50,
     "metadata": {},
     "output_type": "execute_result"
    }
   ],
   "source": [
    "# Training\n",
    "env = EnvironmentExploring(grid_size=size, max_time=T, temperature=0.3)\n",
    "agent = DQN_CNN(size, lr=.1, epsilon = 0.1, memory_size=2000, batch_size = 32,n_state=3)\n",
    "train_explore(agent, env, epochs_train, prefix='cnn_train_explore')\n",
    "HTML(display_videos('cnn_train_explore10.mp4'))"
   ]
  },
  {
   "cell_type": "code",
   "execution_count": 51,
   "metadata": {},
   "outputs": [
    {
     "name": "stdout",
     "output_type": "stream",
     "text": [
      "Win/lose count 0.49/1.9900000000000015. Average score (-1.5000000000000016)\n",
      "Win/lose count 0.98/2.98999999999998. Average score (-1.7549999999999906)\n",
      "Win/lose count 1.96/3.969999999999959. Average score (-1.83999999999998)\n",
      "Win/lose count 1.47/2.96999999999998. Average score (-1.7549999999999801)\n",
      "Win/lose count 0/3.0099999999999794. Average score (-2.00599999999998)\n",
      "Win/lose count 0.49/2.98999999999998. Average score (-2.0883333333333134)\n",
      "Win/lose count 0.49/4.969999999999959. Average score (-2.429999999999977)\n",
      "Win/lose count 0/2.010000000000001. Average score (-2.37749999999998)\n",
      "Win/lose count 2.45/2.9599999999999804. Average score (-2.16999999999998)\n",
      "Win/lose count 1.47/2.97999999999998. Average score (-2.10399999999998)\n",
      "Win/lose count 0/2.0000000000000013. Average score (-2.0945454545454365)\n",
      "Win/lose count 0/2.9599999999999804. Average score (-2.1666666666666483)\n",
      "Win/lose count 1.97/2.96999999999998. Average score (-2.0769230769230584)\n",
      "Win/lose count 0.49/2.0000000000000013. Average score (-2.0364285714285546)\n",
      "Win/lose count 0.49/1.9900000000000015. Average score (-2.000666666666651)\n",
      "Win/lose count 0.49/2.9999999999999796. Average score (-2.032499999999984)\n",
      "Win/lose count 0.98/1.9900000000000015. Average score (-1.9723529411764555)\n",
      "Win/lose count 0/2.010000000000001. Average score (-1.9744444444444302)\n",
      "Win/lose count 0/2.010000000000001. Average score (-1.9763157894736707)\n",
      "Win/lose count 0.49/4.979999999999958. Average score (-2.1019999999999848)\n",
      "Final score: -2.1019999999999848\n"
     ]
    },
    {
     "data": {
      "text/html": [
       "<video alt=\"test\" controls>\n",
       "                <source src=\"data:video/mp4;base64,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\" type=\"video/mp4\" />\n",
       "             </video>"
      ],
      "text/plain": [
       "<IPython.core.display.HTML object>"
      ]
     },
     "execution_count": 51,
     "metadata": {},
     "output_type": "execute_result"
    }
   ],
   "source": [
    "# Evaluation\n",
    "test(agent,env,epochs_test,prefix='cnn_test_explore')\n",
    "HTML(display_videos('cnn_test_explore10.mp4'))"
   ]
  },
  {
   "cell_type": "markdown",
   "metadata": {},
   "source": [
    "***\n",
    "***\n",
    "__BONUS question__ Use the expert DQN from the previous question to generate some winning games. Train a model that mimicks its behavior. Compare the performances."
   ]
  },
  {
   "cell_type": "markdown",
   "metadata": {},
   "source": []
  },
  {
   "cell_type": "markdown",
   "metadata": {},
   "source": [
    "***"
   ]
  }
 ],
 "metadata": {
  "kernelspec": {
   "display_name": "Python 3",
   "language": "python",
   "name": "python3"
  },
  "language_info": {
   "codemirror_mode": {
    "name": "ipython",
    "version": 3
   },
   "file_extension": ".py",
   "mimetype": "text/x-python",
   "name": "python",
   "nbconvert_exporter": "python",
   "pygments_lexer": "ipython3",
   "version": "3.7.0"
  }
 },
 "nbformat": 4,
 "nbformat_minor": 2
}
